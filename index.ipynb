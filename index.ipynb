{
 "cells": [
  {
   "cell_type": "markdown",
   "metadata": {},
   "source": [
    "# Web Scraping with Beautiful Soup - Lab"
   ]
  },
  {
   "cell_type": "markdown",
   "metadata": {},
   "source": [
    "## Introduction\n",
    "\n",
    "Now that you've read and seen some docmentation regarding the use of Beautiful Soup, its time to practice and put that to work! In this lab you'll formalize some of our example code into functions and scrape the lyrics from an artist of your choice."
   ]
  },
  {
   "cell_type": "markdown",
   "metadata": {},
   "source": [
    "## Objectives\n",
    "You will be able to:\n",
    "* Scrape Static webpages\n",
    "* Select specific elements from the DOM"
   ]
  },
  {
   "cell_type": "markdown",
   "metadata": {},
   "source": [
    "## Link Scraping\n",
    "\n",
    "Write a function to collect the links to each of the song pages from a given artist page."
   ]
  },
  {
   "cell_type": "raw",
   "metadata": {},
   "source": [
    "!pip install bs4"
   ]
  },
  {
   "cell_type": "code",
   "execution_count": 10,
   "metadata": {},
   "outputs": [],
   "source": [
    "#Starter Code\n",
    "\n",
    "def get_song_links(artist_url):\n",
    "    url = artist_url #Put the URL of your AZLyrics Artist Page here!\n",
    "\n",
    "    html_page = requests.get(url) #Make a get request to retrieve the page\n",
    "    soup = BeautifulSoup(html_page.content, 'html.parser') #Pass the page contents to beautiful soup for parsing\n",
    "\n",
    "\n",
    "    #The example from our lecture/reading\n",
    "    data = [] #Create a storage container\n",
    "    \n",
    "    albums = soup.find_all('div', class_='album')\n",
    "    for album_n in range(len(albums)):\n",
    "        #On the last album, we won't be able to look forward\n",
    "        if album_n == len(albums)-1:\n",
    "            cur_album = albums[album_n]\n",
    "            album_songs = cur_album.findNextSiblings('a')\n",
    "            for song in album_songs:\n",
    "                page = song.get('href')\n",
    "                title = song.text\n",
    "                album = cur_album.text\n",
    "                data.append((title, page, album))\n",
    "        else:\n",
    "            cur_album = albums[album_n]\n",
    "            next_album = albums[album_n+1]\n",
    "            saca = cur_album.findNextSiblings('a') #songs after current album\n",
    "            sbna = next_album.findPreviousSiblings('a') #songs before next album\n",
    "            album_songs = [song for song in saca if song in sbna] #album songs are those listed after the current album but before the next one!\n",
    "            for song in album_songs:\n",
    "                page = song.get('href')\n",
    "                title = song.text\n",
    "                album = cur_album.text\n",
    "                data.append((title, page, album))\n",
    "#     data[:2]\n",
    "    return data"
   ]
  },
  {
   "cell_type": "markdown",
   "metadata": {},
   "source": [
    "## Text Scraping\n",
    "Write a secondary function that scrapes the lyrics for each song page."
   ]
  },
  {
   "cell_type": "code",
   "execution_count": 11,
   "metadata": {},
   "outputs": [
    {
     "data": {
      "text/plain": [
       "'<!DOCTYPE html>\\n<html lang=\"en\">\\n <head>\\n  <meta charset=\"utf-8\"/>\\n  <meta content=\"IE=edge\" http-equiv=\"X-UA-Compatible\"/>\\n  <meta content=\"width=device-width, initial-scale=1\" name=\"viewport\"/>\\n  <meta content=\"Lyrics to &quot;Generator&quot; song by Bad Religion: Like a rock Like a planet Like a fucking atom bomb I\\'ll remain unperturbed By the joy and the madnes...\" name=\"description\"/>\\n  <meta content=\"Generator lyrics, Bad Religion Generator lyrics, Bad Religion lyrics\" name=\"keywords\"/>\\n  <meta content=\"noarchive\" name=\"robots\"/>\\n  <meta content=\"//www.azlyrics.com/az_logo_tr.png\" property=\"og:image\"/>\\n  <title>\\n   Bad Religion - Generator Lyrics | AZLyrics.com\\n  </title>\\n  <link href=\"https://maxcdn.bootstrapcdn.com/bootstrap/3.3.4/css/bootstrap.min.css\" rel=\"stylesheet\"/>\\n  <link href=\"//www.azlyrics.com/bsaz.css\" rel=\"stylesheet\"/>\\n  <!-- HTML5 shim and Respond.js for IE8 support of HTML5 elements and media queries -->\\n  <!--[if lt IE 9]>\\r\\n<script src=\"https://oss.maxcdn.com/h'"
      ]
     },
     "execution_count": 11,
     "metadata": {},
     "output_type": "execute_result"
    }
   ],
   "source": [
    "#Remember to open up the webpage in a browser and control-click/right-click and go to inspect!\n",
    "from bs4 import BeautifulSoup\n",
    "import requests\n",
    "\n",
    "#Example page\n",
    "url = 'https://www.azlyrics.com/lyrics/badreligion/generator.html'\n",
    "\n",
    "html_page = requests.get(url)\n",
    "soup = BeautifulSoup(html_page.content, 'html.parser')\n",
    "soup.prettify()[:1000]"
   ]
  },
  {
   "cell_type": "code",
   "execution_count": 13,
   "metadata": {},
   "outputs": [],
   "source": [
    "def scrape_lyrics(song_page_url):\n",
    "    \n",
    "    html_page = requests.get(song_page_url)\n",
    "    soup = BeautifulSoup(html_page.content, 'html.parser')\n",
    "    main_page = soup.find('div', {\"class\": \"container main-page\"})\n",
    "    main_l2 = main_page.find('div', {\"class\" : \"row\"})\n",
    "    main_l3 = main_l2.find('div', {\"class\" : \"col-xs-12 col-lg-8 text-center\"})\n",
    "    lyrics = main_l3.findAll('div')[6].text\n",
    "    \n",
    "    return lyrics\n"
   ]
  },
  {
   "cell_type": "markdown",
   "metadata": {},
   "source": [
    "## Synthesizing\n",
    "Create a script using your two functions above to scrape all of the song lyrics for a given artist.\n"
   ]
  },
  {
   "cell_type": "code",
   "execution_count": 12,
   "metadata": {},
   "outputs": [
    {
     "name": "stdout",
     "output_type": "stream",
     "text": [
      "296\n",
      "('Bad Religion (Theme Song)', '../lyrics/badreligion/badreligionthemesong.html', 'album: \"Bad Religion\" (1981)')\n"
     ]
    }
   ],
   "source": [
    "#Use this block for your code!\n",
    "songs = get_song_links('https://www.azlyrics.com/b/badreligion.html')\n",
    "print(len(songs))\n",
    "print(songs[0])"
   ]
  },
  {
   "cell_type": "code",
   "execution_count": 18,
   "metadata": {},
   "outputs": [],
   "source": [
    "url_base = 'http://www.azlyrics.com'\n",
    "\n",
    "lyrics = []\n",
    "for song in songs:\n",
    "    try:\n",
    "        url = url_base + song[1].replace('..', '')\n",
    "        lyric = scrape_lyrics(url)\n",
    "        lyrics.append(lyric)\n",
    "    except:\n",
    "        lyrics.append('n/a')"
   ]
  },
  {
   "cell_type": "code",
   "execution_count": 19,
   "metadata": {},
   "outputs": [
    {
     "name": "stdout",
     "output_type": "stream",
     "text": [
      "296 296\n"
     ]
    }
   ],
   "source": [
    "print(len(songs), len(lyrics))"
   ]
  },
  {
   "cell_type": "markdown",
   "metadata": {},
   "source": [
    "## Visualizing\n",
    "Generate two bar graphs to compare lyrical changes for the artist of your chose. For example, the two bar charts could compare the lyrics for two different songs or two different albums."
   ]
  },
  {
   "cell_type": "code",
   "execution_count": 20,
   "metadata": {},
   "outputs": [
    {
     "data": {
      "text/html": [
       "<div>\n",
       "<style scoped>\n",
       "    .dataframe tbody tr th:only-of-type {\n",
       "        vertical-align: middle;\n",
       "    }\n",
       "\n",
       "    .dataframe tbody tr th {\n",
       "        vertical-align: top;\n",
       "    }\n",
       "\n",
       "    .dataframe thead th {\n",
       "        text-align: right;\n",
       "    }\n",
       "</style>\n",
       "<table border=\"1\" class=\"dataframe\">\n",
       "  <thead>\n",
       "    <tr style=\"text-align: right;\">\n",
       "      <th></th>\n",
       "      <th>0</th>\n",
       "      <th>1</th>\n",
       "    </tr>\n",
       "  </thead>\n",
       "  <tbody>\n",
       "    <tr>\n",
       "      <th>0</th>\n",
       "      <td>(Bad Religion (Theme Song), ../lyrics/badrelig...</td>\n",
       "      <td>\\n\\r\\nSee my body, it's nothing to get hung ab...</td>\n",
       "    </tr>\n",
       "    <tr>\n",
       "      <th>1</th>\n",
       "      <td>(Politics, ../lyrics/badreligion/politics.html...</td>\n",
       "      <td>\\n\\r\\nEconomy, technology, does it really work...</td>\n",
       "    </tr>\n",
       "    <tr>\n",
       "      <th>2</th>\n",
       "      <td>(Sensory Overload, ../lyrics/badreligion/senso...</td>\n",
       "      <td>\\n\\r\\nThey're all just suicides, in a social w...</td>\n",
       "    </tr>\n",
       "    <tr>\n",
       "      <th>3</th>\n",
       "      <td>(Slaves, ../lyrics/badreligion/slaves.html, al...</td>\n",
       "      <td>\\n\\r\\nCongress runs your daily life\\r\\nThey br...</td>\n",
       "    </tr>\n",
       "    <tr>\n",
       "      <th>4</th>\n",
       "      <td>(Drastic Actions, ../lyrics/badreligion/drasti...</td>\n",
       "      <td>\\n\\r\\nHeard a word, suicide,\\r\\nNot from one, ...</td>\n",
       "    </tr>\n",
       "  </tbody>\n",
       "</table>\n",
       "</div>"
      ],
      "text/plain": [
       "                                                   0  \\\n",
       "0  (Bad Religion (Theme Song), ../lyrics/badrelig...   \n",
       "1  (Politics, ../lyrics/badreligion/politics.html...   \n",
       "2  (Sensory Overload, ../lyrics/badreligion/senso...   \n",
       "3  (Slaves, ../lyrics/badreligion/slaves.html, al...   \n",
       "4  (Drastic Actions, ../lyrics/badreligion/drasti...   \n",
       "\n",
       "                                                   1  \n",
       "0  \\n\\r\\nSee my body, it's nothing to get hung ab...  \n",
       "1  \\n\\r\\nEconomy, technology, does it really work...  \n",
       "2  \\n\\r\\nThey're all just suicides, in a social w...  \n",
       "3  \\n\\r\\nCongress runs your daily life\\r\\nThey br...  \n",
       "4  \\n\\r\\nHeard a word, suicide,\\r\\nNot from one, ...  "
      ]
     },
     "execution_count": 20,
     "metadata": {},
     "output_type": "execute_result"
    }
   ],
   "source": [
    "#Use this block for your code!\n",
    "import pandas as pd\n",
    "\n",
    "df = pd.DataFrame(list(zip(songs, lyrics)))\n",
    "df.head()"
   ]
  },
  {
   "cell_type": "code",
   "execution_count": 23,
   "metadata": {},
   "outputs": [
    {
     "data": {
      "text/html": [
       "<div>\n",
       "<style scoped>\n",
       "    .dataframe tbody tr th:only-of-type {\n",
       "        vertical-align: middle;\n",
       "    }\n",
       "\n",
       "    .dataframe tbody tr th {\n",
       "        vertical-align: top;\n",
       "    }\n",
       "\n",
       "    .dataframe thead th {\n",
       "        text-align: right;\n",
       "    }\n",
       "</style>\n",
       "<table border=\"1\" class=\"dataframe\">\n",
       "  <thead>\n",
       "    <tr style=\"text-align: right;\">\n",
       "      <th></th>\n",
       "      <th>0</th>\n",
       "      <th>Lyrics</th>\n",
       "      <th>song</th>\n",
       "      <th>song_url</th>\n",
       "      <th>albume</th>\n",
       "    </tr>\n",
       "  </thead>\n",
       "  <tbody>\n",
       "    <tr>\n",
       "      <th>0</th>\n",
       "      <td>(Bad Religion (Theme Song), ../lyrics/badrelig...</td>\n",
       "      <td>\\n\\r\\nSee my body, it's nothing to get hung ab...</td>\n",
       "      <td>Bad Religion (Theme Song)</td>\n",
       "      <td>../lyrics/badreligion/badreligionthemesong.html</td>\n",
       "      <td>album: \"Bad Religion\" (1981)</td>\n",
       "    </tr>\n",
       "    <tr>\n",
       "      <th>1</th>\n",
       "      <td>(Politics, ../lyrics/badreligion/politics.html...</td>\n",
       "      <td>\\n\\r\\nEconomy, technology, does it really work...</td>\n",
       "      <td>Politics</td>\n",
       "      <td>../lyrics/badreligion/politics.html</td>\n",
       "      <td>album: \"Bad Religion\" (1981)</td>\n",
       "    </tr>\n",
       "    <tr>\n",
       "      <th>2</th>\n",
       "      <td>(Sensory Overload, ../lyrics/badreligion/senso...</td>\n",
       "      <td>\\n\\r\\nThey're all just suicides, in a social w...</td>\n",
       "      <td>Sensory Overload</td>\n",
       "      <td>../lyrics/badreligion/sensoryoverload.html</td>\n",
       "      <td>album: \"Bad Religion\" (1981)</td>\n",
       "    </tr>\n",
       "    <tr>\n",
       "      <th>3</th>\n",
       "      <td>(Slaves, ../lyrics/badreligion/slaves.html, al...</td>\n",
       "      <td>\\n\\r\\nCongress runs your daily life\\r\\nThey br...</td>\n",
       "      <td>Slaves</td>\n",
       "      <td>../lyrics/badreligion/slaves.html</td>\n",
       "      <td>album: \"Bad Religion\" (1981)</td>\n",
       "    </tr>\n",
       "    <tr>\n",
       "      <th>4</th>\n",
       "      <td>(Drastic Actions, ../lyrics/badreligion/drasti...</td>\n",
       "      <td>\\n\\r\\nHeard a word, suicide,\\r\\nNot from one, ...</td>\n",
       "      <td>Drastic Actions</td>\n",
       "      <td>../lyrics/badreligion/drasticactions.html</td>\n",
       "      <td>album: \"Bad Religion\" (1981)</td>\n",
       "    </tr>\n",
       "  </tbody>\n",
       "</table>\n",
       "</div>"
      ],
      "text/plain": [
       "                                                   0  \\\n",
       "0  (Bad Religion (Theme Song), ../lyrics/badrelig...   \n",
       "1  (Politics, ../lyrics/badreligion/politics.html...   \n",
       "2  (Sensory Overload, ../lyrics/badreligion/senso...   \n",
       "3  (Slaves, ../lyrics/badreligion/slaves.html, al...   \n",
       "4  (Drastic Actions, ../lyrics/badreligion/drasti...   \n",
       "\n",
       "                                              Lyrics  \\\n",
       "0  \\n\\r\\nSee my body, it's nothing to get hung ab...   \n",
       "1  \\n\\r\\nEconomy, technology, does it really work...   \n",
       "2  \\n\\r\\nThey're all just suicides, in a social w...   \n",
       "3  \\n\\r\\nCongress runs your daily life\\r\\nThey br...   \n",
       "4  \\n\\r\\nHeard a word, suicide,\\r\\nNot from one, ...   \n",
       "\n",
       "                        song                                         song_url  \\\n",
       "0  Bad Religion (Theme Song)  ../lyrics/badreligion/badreligionthemesong.html   \n",
       "1                   Politics              ../lyrics/badreligion/politics.html   \n",
       "2           Sensory Overload       ../lyrics/badreligion/sensoryoverload.html   \n",
       "3                     Slaves                ../lyrics/badreligion/slaves.html   \n",
       "4            Drastic Actions        ../lyrics/badreligion/drasticactions.html   \n",
       "\n",
       "                         albume  \n",
       "0  album: \"Bad Religion\" (1981)  \n",
       "1  album: \"Bad Religion\" (1981)  \n",
       "2  album: \"Bad Religion\" (1981)  \n",
       "3  album: \"Bad Religion\" (1981)  \n",
       "4  album: \"Bad Religion\" (1981)  "
      ]
     },
     "execution_count": 23,
     "metadata": {},
     "output_type": "execute_result"
    }
   ],
   "source": [
    "df['song'] = df[0].map(lambda x: x[0])\n",
    "df['song_url'] = df[0].map(lambda x: x[1])\n",
    "df['albume'] = df[0].map(lambda x: x[2])\n",
    "\n",
    "df = df.rename(columns={1:'Lyrics'})\n",
    "df.head()"
   ]
  },
  {
   "cell_type": "code",
   "execution_count": 24,
   "metadata": {},
   "outputs": [
    {
     "data": {
      "text/plain": [
       "Bad            9\n",
       "Religion,      7\n",
       "it's           5\n",
       "you            4\n",
       "a              4\n",
       "is             4\n",
       "your           4\n",
       "Indecision,    3\n",
       "regurgitate    3\n",
       "Don't          3\n",
       "dtype: int64"
      ]
     },
     "execution_count": 24,
     "metadata": {},
     "output_type": "execute_result"
    }
   ],
   "source": [
    "import matplotlib.pyplot as plt\n",
    "import seaborn as sns\n",
    "%matplotlib inline\n",
    "\n",
    "pd.Series(df.Lyrics.iloc[0].split()).value_counts()[:10]\n"
   ]
  },
  {
   "cell_type": "code",
   "execution_count": 26,
   "metadata": {},
   "outputs": [
    {
     "data": {
      "text/plain": [
       "Text(0.5, 1.0, 'Top 10 Lyrics for Politics')"
      ]
     },
     "execution_count": 26,
     "metadata": {},
     "output_type": "execute_result"
    },
    {
     "data": {
      "image/png": "[encoded data removed]",
      "text/plain": [
       "<Figure size 720x576 with 2 Axes>"
      ]
     },
     "metadata": {
      "needs_background": "light"
     },
     "output_type": "display_data"
    }
   ],
   "source": [
    "fig, axes = plt.subplots(1,2, figsize=(10,8))\n",
    "\n",
    "#Get top 10 words\n",
    "top10 = pd.Series(df.Lyrics.iloc[0].split()).value_counts()[:10]\n",
    "\n",
    "#Plot as bar graph\n",
    "top10.plot(ax=axes[0], kind='barh')\n",
    "\n",
    "#Add Subplot Title\n",
    "axes[0].set_title('Top 10 Lyrics for {}'.format(df['song'].iloc[0]))\n",
    "\n",
    "#Repeat\n",
    "#Get top 10 words\n",
    "top10 = pd.Series(df.Lyrics.iloc[1].split()).value_counts()[:10]\n",
    "\n",
    "#Plot as bar graph\n",
    "top10.plot(ax=axes[1], kind='barh')\n",
    "\n",
    "#Add Subplot Title\n",
    "axes[1].set_title('Top 10 Lyrics for {}'.format(df['song'].iloc[1]))"
   ]
  },
  {
   "cell_type": "markdown",
   "metadata": {},
   "source": [
    "## Level - Up\n",
    "\n",
    "Think about how you structured the data from your web scraper. Did you scrape the entire song lyrics verbatim? Did you simply store the words and their frequency counts, or did you do something else entirely? List out a few different options for how you could have stored this data. What are advantages and disadvantages of each? Be specific and think about what sort of analyses each representation would lend itself to."
   ]
  },
  {
   "cell_type": "code",
   "execution_count": null,
   "metadata": {},
   "outputs": [],
   "source": [
    "#Use this block for your code!"
   ]
  },
  {
   "cell_type": "markdown",
   "metadata": {},
   "source": [
    "## Summary"
   ]
  },
  {
   "cell_type": "markdown",
   "metadata": {},
   "source": [
    "Congratulations! You've now practiced your Beautiful Soup knowledge!"
   ]
  }
 ],
 "metadata": {
  "kernelspec": {
   "display_name": "Python 3",
   "language": "python",
   "name": "python3"
  },
  "language_info": {
   "codemirror_mode": {
    "name": "ipython",
    "version": 3
   },
   "file_extension": ".py",
   "mimetype": "text/x-python",
   "name": "python",
   "nbconvert_exporter": "python",
   "pygments_lexer": "ipython3",
   "version": "3.7.0"
  }
 },
 "nbformat": 4,
 "nbformat_minor": 2
}
